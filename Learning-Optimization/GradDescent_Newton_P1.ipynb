{
 "cells": [
  {
   "cell_type": "code",
   "execution_count": 328,
   "metadata": {
    "collapsed": true,
    "pycharm": {
     "is_executing": false
    }
   },
   "outputs": [],
   "source": [
    "import time\n",
    "\n",
    "import matplotlib.pyplot as plt\n",
    "import numpy as np\n",
    "\n",
    "x = 0.15\n",
    "y = 0.15\n",
    "learning_rate = .0001"
   ]
  },
  {
   "cell_type": "code",
   "execution_count": 329,
   "metadata": {
    "pycharm": {
     "is_executing": false,
     "name": "#%%\n"
    }
   },
   "outputs": [],
   "source": [
    "f = lambda x_, y_ : -np.log(1 - x_ - y_) - np.log(x_) - np.log(y_)\n",
    "dom_x_y = lambda x_, y_: ((x_ + y_) < 1) and (x_ > 0) and (y_ > 0)\n",
    "\n",
    "df_dx = lambda x_, y_: 1/(1 - x_ - y_) - (1/x)\n",
    "df_dy = lambda x_, y_: 1/(1 - x_ - y_) - (1/y)\n",
    "\n",
    "dff_dxdy = lambda x_, y_: 1/((1- x_ - y_)**2)\n",
    "dff_dxdx = lambda x_, y_: 1/((1- x_ - y_)**2) + 1/(x**2)\n",
    "dff_dydy = lambda x_, y_: 1/((1- x_ - y_)**2) + 1/(y**2)"
   ]
  },
  {
   "cell_type": "code",
   "execution_count": 330,
   "metadata": {
    "pycharm": {
     "is_executing": false,
     "name": "#%%\n"
    }
   },
   "outputs": [
    {
     "name": "stdout",
     "text": [
      "Gradient Descent\nTime Taken: 0.006672299999991083\nEpochs:  399\nInitial Weight: [0.15, 0.15]\nFinal Weight: [0.3331807416684651, 0.3331807416684651]\n"
     ],
     "output_type": "stream"
    }
   ],
   "source": [
    "weight = np.array([x,y])\n",
    "\n",
    "energies = []\n",
    "weights_x = []\n",
    "weights_y = []\n",
    "#dictionary with mapping energy: (x,y)\n",
    "energies.append(f(weight[0],weight[1]))\n",
    "weights_x.append(weight[0])\n",
    "weights_y.append(weight[1])\n",
    "\n",
    "start = time.perf_counter()\n",
    "epoch = 0\n",
    "while(True):\n",
    "    epoch += 1\n",
    "    gradient = np.array([df_dx(weight[0], weight[1]), df_dy(weight[0], weight[1])])\n",
    "    \n",
    "    weight = weight - (learning_rate * gradient)\n",
    "    #print(weight)\n",
    "    try:\n",
    "        #log does not work on negative numbers. So the negativity part of domain is taken care\n",
    "        energy = f(weight[0],weight[1])\n",
    "    except ValueError:\n",
    "        break\n",
    "    #print(weight)\n",
    "    #print(np.linalg.norm(weight - weight_temp))\n",
    "    if (dom_x_y(weight[0], weight[1]) == False) or energy >= energies[-1]:\n",
    "        break\n",
    "    else:\n",
    "        energies.append(energy)\n",
    "        weights_x.append(weight[0])\n",
    "        weights_y.append(weight[1])\n",
    "\n",
    "end = time.perf_counter()\n",
    "print(\"Gradient Descent\")\n",
    "print(\"Time Taken:\", end-start)\n",
    "print(\"Epochs: \",epoch)\n",
    "print(\"Initial Weight: {0}\\nFinal Weight: {1}\".format([weights_x[0], weights_y[0]],[weights_x[-1], weights_y[-1]] ))"
   ]
  },
  {
   "cell_type": "code",
   "execution_count": 331,
   "metadata": {
    "pycharm": {
     "is_executing": false,
     "name": "#%%\n"
    }
   },
   "outputs": [
    {
     "data": {
      "text/plain": "<Figure size 432x288 with 1 Axes>",
      "image/png": "[encoded data removed]"
     },
     "metadata": {
      "needs_background": "light"
     },
     "output_type": "display_data"
    }
   ],
   "source": [
    "fig, ax = plt.subplots()\n",
    "plt.scatter(weights_x, weights_y)\n",
    "plt.show()"
   ]
  },
  {
   "cell_type": "code",
   "execution_count": 332,
   "metadata": {
    "pycharm": {
     "is_executing": false,
     "name": "#%%\n"
    }
   },
   "outputs": [
    {
     "data": {
      "text/plain": "<Figure size 432x288 with 1 Axes>",
      "image/png": "[encoded data removed]"
     },
     "metadata": {
      "needs_background": "light"
     },
     "output_type": "display_data"
    }
   ],
   "source": [
    "fig, ax = plt.subplots()\n",
    "plt.scatter([i for i in range(len(energies))], energies)\n",
    "plt.show()"
   ]
  },
  {
   "cell_type": "code",
   "execution_count": 333,
   "metadata": {
    "pycharm": {
     "is_executing": false,
     "name": "#%%\n"
    }
   },
   "outputs": [
    {
     "name": "stdout",
     "text": [
      "Newton Method\nTime Taken 3.087681099999827\nEpochs: 21283\nInitial Weight: [0.15, 0.15]\nFinal Weight: [0.333334926517191, 0.333334926517191]\n"
     ],
     "output_type": "stream"
    }
   ],
   "source": [
    "\n",
    "weight2 = np.array([x,y])\n",
    "start_2 = time.perf_counter()\n",
    "epoch_2 = 0\n",
    "weights_x2 = []\n",
    "weights_y2 = []\n",
    "energies2 = []\n",
    "energies2.append(f(weight2[0],weight2[1]))\n",
    "weights_x2.append(weight2[0])\n",
    "weights_y2.append(weight2[1])\n",
    "\n",
    "while(True):\n",
    "    epoch_2 +=1\n",
    "    gradient2 = np.array([df_dx(weight2[0], weight2[1]), df_dy(weight2[0], weight2[1])])\n",
    "    hs_1 = dff_dxdx(weight2[0],weight2[1])\n",
    "    hs_2 = dff_dxdy(weight2[0],weight2[1])\n",
    "    hs_3 = dff_dxdy(weight2[0],weight2[1])\n",
    "    hs_4 = dff_dydy(weight2[0],weight2[1])\n",
    "    hessian = np.array([[hs_1, hs_2],[hs_3, hs_4]])\n",
    "    hessian_inv = np.linalg.inv(hessian)\n",
    "    weight2 = weight2 - (learning_rate * (gradient2 @ hessian_inv))\n",
    "    try:\n",
    "        #log does not work on negative numbers. So the negativity part of domain is taken care\n",
    "        energy = f(weight2[0],weight2[1])\n",
    "    except ValueError:\n",
    "        break\n",
    "    #print(weight)\n",
    "    #print(np.linalg.norm(weight - weight_temp))\n",
    "    if (dom_x_y(weight2[0], weight2[1]) == False) or energy >= energies2[-1]:\n",
    "        #print(\"Breaking\")\n",
    "        break\n",
    "    else:\n",
    "        energies2.append(energy)\n",
    "        weights_x2.append(weight2[0])\n",
    "        weights_y2.append(weight2[1])\n",
    "\n",
    "end_2 = time.perf_counter()\n",
    "print(\"Newton Method\")\n",
    "print(\"Time Taken\", end_2 - start_2 )    \n",
    "print(\"Epochs:\",epoch_2)\n",
    "print(\"Initial Weight: {0}\\nFinal Weight: {1}\".format([weights_x2[0], weights_y2[0]],[weights_x2[-1], weights_y2[-1]] ))"
   ]
  },
  {
   "cell_type": "code",
   "execution_count": 334,
   "metadata": {
    "pycharm": {
     "is_executing": false,
     "name": "#%%\n"
    }
   },
   "outputs": [
    {
     "data": {
      "text/plain": "<Figure size 432x288 with 1 Axes>",
      "image/png": "[encoded data removed]"
     },
     "metadata": {
      "needs_background": "light"
     },
     "output_type": "display_data"
    }
   ],
   "source": [
    "fig, ax = plt.subplots()\n",
    "plt.scatter(weights_x2, weights_y2)\n",
    "plt.show()\n",
    "\n"
   ]
  },
  {
   "cell_type": "code",
   "execution_count": 335,
   "metadata": {
    "pycharm": {
     "is_executing": false,
     "name": "#%%\n"
    }
   },
   "outputs": [
    {
     "data": {
      "text/plain": "<Figure size 432x288 with 1 Axes>",
      "image/png": "[encoded data removed]"
     },
     "metadata": {
      "needs_background": "light"
     },
     "output_type": "display_data"
    }
   ],
   "source": [
    "fig, ax = plt.subplots()\n",
    "plt.scatter([i for i in range(len(energies2))], energies2)\n",
    "plt.show()\n"
   ]
  }
 ],
 "metadata": {
  "kernelspec": {
   "display_name": "Python 3",
   "language": "python",
   "name": "python3"
  },
  "language_info": {
   "codemirror_mode": {
    "name": "ipython",
    "version": 3
   },
   "file_extension": ".py",
   "mimetype": "text/x-python",
   "name": "python",
   "nbconvert_exporter": "python",
   "pygments_lexer": "ipython3",
   "version": "3.7.4"
  },
  "pycharm": {
   "stem_cell": {
    "cell_type": "raw",
    "source": [],
    "metadata": {
     "collapsed": false
    }
   }
  }
 },
 "nbformat": 4,
 "nbformat_minor": 1
}
