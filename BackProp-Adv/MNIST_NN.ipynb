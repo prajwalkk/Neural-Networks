{
 "cells": [
  {
   "cell_type": "code",
   "execution_count": 26,
   "outputs": [],
   "source": [
    "import matplotlib.pyplot as plt\n",
    "import mnist\n",
    "import numpy as np"
   ],
   "metadata": {
    "collapsed": false,
    "pycharm": {
     "name": "#%%\n",
     "is_executing": false
    }
   }
  },
  {
   "cell_type": "code",
   "execution_count": 27,
   "outputs": [],
   "source": [
    "#initializaation\n",
    "train_data, train_labels, test_data, test_labels = mnist.load_data()\n",
    "m0 = 784\n",
    "m1 = 100\n",
    "m2 = 100\n",
    "m3 = 10"
   ],
   "metadata": {
    "collapsed": false,
    "pycharm": {
     "name": "#%%\n",
     "is_executing": false
    }
   }
  },
  {
   "cell_type": "code",
   "execution_count": 28,
   "outputs": [],
   "source": [
    "#Normalizing\n",
    "train_mean = train_data.mean()\n",
    "test_mean = test_data.mean()\n",
    "train_std = test_data.std()\n",
    "test_std = test_data.std()\n",
    "\n",
    "train_data = (train_data - train_mean) / train_std\n",
    "test_data = (test_data - test_mean) / test_std\n"
   ],
   "metadata": {
    "collapsed": false,
    "pycharm": {
     "name": "#%%\n",
     "is_executing": false
    }
   }
  },
  {
   "cell_type": "code",
   "execution_count": 28,
   "outputs": [],
   "source": [],
   "metadata": {
    "collapsed": false,
    "pycharm": {
     "name": "#%%\n",
     "is_executing": false
    }
   }
  },
  {
   "cell_type": "code",
   "execution_count": 29,
   "outputs": [],
   "source": [
    "#get OneHot Vectors\n",
    "def one_hot(label):\n",
    "    b = np.zeros((label.size, label.max() + 1))\n",
    "    b[np.arange(label.size), label] = 1\n",
    "    return b\n"
   ],
   "metadata": {
    "collapsed": false,
    "pycharm": {
     "name": "#%%\n",
     "is_executing": false
    }
   }
  },
  {
   "cell_type": "code",
   "execution_count": 30,
   "outputs": [],
   "source": [
    "train_labels_one_hot = one_hot(train_labels)\n",
    "test_labels_one_hot = one_hot(test_labels)\n",
    "\n",
    "#initialise Weights Xavier Normal\n",
    "# print(train_labels[1], train_labels_one_hot[1])\n",
    "W1 = np.random.normal(0, 1 / np.sqrt(m0), (m1, m0 + 1))\n",
    "W2 = np.random.normal(0, 1 / np.sqrt(m1), (m2, m1 + 1))\n",
    "W3 = np.random.normal(0, 1 / np.sqrt(m2), (m3, m2 + 1))\n",
    "\n",
    "V1 = np.zeros(W1.shape)\n",
    "V2 = np.zeros(W2.shape)\n",
    "V3 = np.zeros(W3.shape)"
   ],
   "metadata": {
    "collapsed": false,
    "pycharm": {
     "name": "#%%\n",
     "is_executing": false
    }
   }
  },
  {
   "cell_type": "code",
   "execution_count": 31,
   "outputs": [],
   "source": [
    "tan_h = lambda x_: np.tanh(x_)\n",
    "output_ac_fn = lambda x_: np.maximum(x_, 0).astype(int)\n",
    "d_tan_h = lambda x_: 1 - (np.tanh(x_) ** 2)\n",
    "sigmoid = lambda x_: 1 / (1 + np.exp(-x_))\n",
    "d_sigmoid = lambda x_: sigmoid(x_) * (1 - sigmoid(x_))\n",
    "d_output_ac_fn = lambda x_: 1"
   ],
   "metadata": {
    "collapsed": false,
    "pycharm": {
     "name": "#%%\n",
     "is_executing": false
    }
   }
  },
  {
   "cell_type": "code",
   "execution_count": 32,
   "outputs": [],
   "source": [
    "#Hyper Parms\n",
    "learning_rate = 0.01\n",
    "momentum = 0.15\n",
    "train_errors = []\n",
    "energy_train = []\n",
    "test_errors = []\n",
    "energy_test = []\n",
    "MSE = []\n",
    "MSE_test = []\n",
    "epoch = 0\n",
    "\n",
    "n = 60000\n",
    "n_test = 10000"
   ],
   "metadata": {
    "collapsed": false,
    "pycharm": {
     "name": "#%%\n",
     "is_executing": false
    }
   }
  },
  {
   "cell_type": "code",
   "execution_count": 41,
   "outputs": [
    {
     "name": "stdout",
     "text": [
      "MSE Train\t\tMSE Test\t\tEta\tEpoch\tAccuracy_train\tAccuracy_test\n",
      "0.00038213824978997025 0.004142959230839573 0.01 131 0.99685 0.9771\n"
     ],
     "output_type": "stream"
    }
   ],
   "source": [
    "#Algo\n",
    "print(\"MSE Train\\t\\tMSE Test\\t\\tEta\\tEpoch\\tAccuracy_train\\tAccuracy_test\")\n",
    "unit_vector = np.array([1]).reshape(1, 1)\n",
    "while (True):\n",
    "    # print(W1, W2)\n",
    "    y_3s = []\n",
    "    y_3s_test = []\n",
    "    correct = 0\n",
    "    E_train = 0\n",
    "    for i in range(n):\n",
    "\n",
    "        y0 = np.array(train_data[i]).reshape(784, 1)\n",
    "        int_y0 = np.vstack((unit_vector, y0))\n",
    "        v_1 = W1 @ int_y0\n",
    "        y_1 = sigmoid(v_1)\n",
    "\n",
    "        int_y1 = np.vstack((unit_vector, y_1))\n",
    "        v_2 = W2 @ int_y1\n",
    "        y_2 = sigmoid(v_2)\n",
    "\n",
    "        int_y2 = np.vstack((unit_vector, y_2))\n",
    "        v_3 = W3 @ int_y2\n",
    "        y_3 = sigmoid(v_3)\n",
    "        y_3s.append(y_3)\n",
    "\n",
    "        check = (np.argmax(y_3) == train_labels[i])\n",
    "        if check == True:\n",
    "            correct += 1\n",
    "\n",
    "        E_train += np.sum((train_labels_one_hot[i].reshape(y_3.shape) - y_3) ** 2) / (2 * n)\n",
    "\n",
    "        d_3 = np.multiply((train_labels_one_hot[i].reshape(y_3.shape) - y_3), d_sigmoid(v_3))\n",
    "        d_2 = np.multiply((np.transpose(W3) @ d_3)[1:, :], d_sigmoid(v_2))\n",
    "        d_1 = np.multiply((np.transpose(W2) @ d_2)[1:, :], d_sigmoid(v_1))\n",
    "\n",
    "        de_dW1 = -d_1 @ int_y0.transpose()\n",
    "        de_dW2 = -d_2 @ int_y1.transpose()\n",
    "        de_dW3 = -d_3 @ int_y2.transpose()\n",
    "\n",
    "        V1 = np.subtract(np.multiply(momentum, V1), np.multiply(learning_rate, de_dW1))\n",
    "        V2 = np.subtract(np.multiply(momentum, V2), np.multiply(learning_rate, de_dW2))\n",
    "        V3 = np.subtract(np.multiply(momentum, V3), np.multiply(learning_rate, de_dW3))\n",
    "\n",
    "        W1 = W1 + V1\n",
    "        W2 = W2 + V2\n",
    "        W3 = W3 + V3\n",
    "        # print(train_labels[i], y_3s[i])\n",
    "    energy_train.append(E_train)\n",
    "    train_errors.append(n - correct)\n",
    "    \n",
    "    \n",
    "    E_test = 0\n",
    "    correct_test = 0\n",
    "    for i in range(n_test):\n",
    "        y0 = np.array(test_data[i]).reshape(784, 1)\n",
    "        int_y0 = np.vstack((unit_vector, y0))\n",
    "        v_1 = W1 @ int_y0\n",
    "        y_1 = sigmoid(v_1)\n",
    "\n",
    "        int_y1 = np.vstack((unit_vector, y_1))\n",
    "        v_2 = W2 @ int_y1\n",
    "        y_2 = sigmoid(v_2)\n",
    "\n",
    "        int_y2 = np.vstack((unit_vector, y_2))\n",
    "        v_3 = W3 @ int_y2\n",
    "        y_3 = sigmoid(v_3)\n",
    "        y_3s_test.append(y_3)\n",
    "\n",
    "        check = (np.argmax(y_3) == test_labels[i])\n",
    "        if check == True:\n",
    "            correct_test += 1\n",
    "        E_test += np.sum((test_labels_one_hot[i].reshape(y_3.shape) - y_3) ** 2) / (2 * n)\n",
    "    energy_test.append(E_test)\n",
    "    test_errors.append(n_test - correct_test)\n",
    "\n",
    "    sum_ = 0\n",
    "    for i in range(n):\n",
    "        sum_ += np.square(np.subtract(train_labels_one_hot[i].reshape(y_3.shape),y_3s[i])).mean()\n",
    "    mse = (sum_ / (n))\n",
    "    MSE.append(mse)\n",
    "\n",
    "    sum_ = 0\n",
    "    for i in range(n_test):\n",
    "        sum_ += np.square(np.subtract(test_labels_one_hot[i].reshape(y_3.shape),y_3s_test[i])).mean()\n",
    "    mse_test = (sum_ / (n_test))\n",
    "    MSE_test.append(mse_test)\n",
    "\n",
    "    if epoch != 0:\n",
    "        if MSE[epoch] > MSE[epoch - 1]:\n",
    "            learning_rate = learning_rate * 0.9\n",
    "        if (correct_test / n_test) >= 0.99 or (correct/n) >0.996:\n",
    "            break\n",
    "\n",
    "    epoch += 1\n",
    "print(MSE[-1], MSE_test[-1], learning_rate, epoch, correct / n, correct_test / n_test)"
   ],
   "metadata": {
    "collapsed": false,
    "pycharm": {
     "name": "#%%\n",
     "is_executing": false
    }
   }
  },
  {
   "cell_type": "code",
   "execution_count": 39,
   "outputs": [
    {
     "data": {
      "text/plain": "<Figure size 720x720 with 1 Axes>",
      "image/png": "[encoded data removed]"
     },
     "metadata": {
      "needs_background": "light"
     },
     "output_type": "display_data"
    }
   ],
   "source": [
    "fig, ax = plt.subplots(figsize=(10,10))\n",
    "plt.xlabel('Epochs')\n",
    "plt.ylabel('Error Rates')\n",
    "plt.plot(range(len(test_errors)), np.array(test_errors)/n_test, c ='red', label='Testing Errors')\n",
    "plt.plot(range(len(train_errors)), np.array(train_errors)/n, c='blue', label='Training Errors')\n",
    "plt.legend(loc = 'best')\n",
    "plt.show()\n"
   ],
   "metadata": {
    "collapsed": false,
    "pycharm": {
     "name": "#%%\n",
     "is_executing": false
    }
   }
  },
  {
   "cell_type": "code",
   "execution_count": 40,
   "outputs": [
    {
     "data": {
      "text/plain": "<Figure size 720x720 with 1 Axes>",
      "image/png": "[encoded data removed]"
     },
     "metadata": {
      "needs_background": "light"
     },
     "output_type": "display_data"
    }
   ],
   "source": [
    "fig, ax = plt.subplots(figsize=(10,10))\n",
    "plt.xlabel('Epochs')\n",
    "plt.ylabel('Energies')\n",
    "plt.plot(range(len(energy_train)), energy_train, c='blue', label='Training energies')\n",
    "plt.plot(range(len(energy_test)), energy_test, c='red', label='Testing energies')\n",
    "plt.legend(loc = 'best')\n",
    "plt.show()\n",
    "\n",
    "\n"
   ],
   "metadata": {
    "collapsed": false,
    "pycharm": {
     "name": "#%%\n",
     "is_executing": false
    }
   }
  }
 ],
 "metadata": {
  "kernelspec": {
   "display_name": "Python 3",
   "language": "python",
   "name": "python3"
  },
  "language_info": {
   "codemirror_mode": {
    "name": "ipython",
    "version": 3
   },
   "file_extension": ".py",
   "mimetype": "text/x-python",
   "name": "python",
   "nbconvert_exporter": "python",
   "pygments_lexer": "ipython3",
   "version": "3.7.4"
  },
  "pycharm": {
   "stem_cell": {
    "cell_type": "raw",
    "source": [],
    "metadata": {
     "collapsed": false
    }
   }
  }
 },
 "nbformat": 4,
 "nbformat_minor": 1
}
